{
  "nbformat": 4,
  "nbformat_minor": 0,
  "metadata": {
    "colab": {
      "name": "FNN.ipynb",
      "provenance": []
    },
    "kernelspec": {
      "name": "python3",
      "display_name": "Python 3"
    }
  },
  "cells": [
    {
      "cell_type": "code",
      "metadata": {
        "id": "uR_-y_ABTovM",
        "colab": {
          "base_uri": "https://localhost:8080/"
        },
        "outputId": "93bd77de-8e4c-4746-d5f6-dc4d93d7d9d7"
      },
      "source": [
        "!pip install tensorflow keras\n",
        "!pip install mnist"
      ],
      "execution_count": 1,
      "outputs": [
        {
          "output_type": "stream",
          "text": [
            "Requirement already satisfied: tensorflow in /usr/local/lib/python3.6/dist-packages (2.4.0)\n",
            "Requirement already satisfied: keras in /usr/local/lib/python3.6/dist-packages (2.4.3)\n",
            "Requirement already satisfied: termcolor~=1.1.0 in /usr/local/lib/python3.6/dist-packages (from tensorflow) (1.1.0)\n",
            "Requirement already satisfied: absl-py~=0.10 in /usr/local/lib/python3.6/dist-packages (from tensorflow) (0.10.0)\n",
            "Requirement already satisfied: gast==0.3.3 in /usr/local/lib/python3.6/dist-packages (from tensorflow) (0.3.3)\n",
            "Requirement already satisfied: opt-einsum~=3.3.0 in /usr/local/lib/python3.6/dist-packages (from tensorflow) (3.3.0)\n",
            "Requirement already satisfied: typing-extensions~=3.7.4 in /usr/local/lib/python3.6/dist-packages (from tensorflow) (3.7.4.3)\n",
            "Requirement already satisfied: flatbuffers~=1.12.0 in /usr/local/lib/python3.6/dist-packages (from tensorflow) (1.12)\n",
            "Requirement already satisfied: six~=1.15.0 in /usr/local/lib/python3.6/dist-packages (from tensorflow) (1.15.0)\n",
            "Requirement already satisfied: h5py~=2.10.0 in /usr/local/lib/python3.6/dist-packages (from tensorflow) (2.10.0)\n",
            "Requirement already satisfied: wrapt~=1.12.1 in /usr/local/lib/python3.6/dist-packages (from tensorflow) (1.12.1)\n",
            "Requirement already satisfied: wheel~=0.35 in /usr/local/lib/python3.6/dist-packages (from tensorflow) (0.36.2)\n",
            "Requirement already satisfied: google-pasta~=0.2 in /usr/local/lib/python3.6/dist-packages (from tensorflow) (0.2.0)\n",
            "Requirement already satisfied: protobuf>=3.9.2 in /usr/local/lib/python3.6/dist-packages (from tensorflow) (3.12.4)\n",
            "Requirement already satisfied: astunparse~=1.6.3 in /usr/local/lib/python3.6/dist-packages (from tensorflow) (1.6.3)\n",
            "Requirement already satisfied: keras-preprocessing~=1.1.2 in /usr/local/lib/python3.6/dist-packages (from tensorflow) (1.1.2)\n",
            "Requirement already satisfied: tensorflow-estimator<2.5.0,>=2.4.0rc0 in /usr/local/lib/python3.6/dist-packages (from tensorflow) (2.4.0)\n",
            "Requirement already satisfied: tensorboard~=2.4 in /usr/local/lib/python3.6/dist-packages (from tensorflow) (2.4.0)\n",
            "Requirement already satisfied: numpy~=1.19.2 in /usr/local/lib/python3.6/dist-packages (from tensorflow) (1.19.4)\n",
            "Requirement already satisfied: grpcio~=1.32.0 in /usr/local/lib/python3.6/dist-packages (from tensorflow) (1.32.0)\n",
            "Requirement already satisfied: pyyaml in /usr/local/lib/python3.6/dist-packages (from keras) (3.13)\n",
            "Requirement already satisfied: scipy>=0.14 in /usr/local/lib/python3.6/dist-packages (from keras) (1.4.1)\n",
            "Requirement already satisfied: setuptools in /usr/local/lib/python3.6/dist-packages (from protobuf>=3.9.2->tensorflow) (51.0.0)\n",
            "Requirement already satisfied: tensorboard-plugin-wit>=1.6.0 in /usr/local/lib/python3.6/dist-packages (from tensorboard~=2.4->tensorflow) (1.7.0)\n",
            "Requirement already satisfied: google-auth-oauthlib<0.5,>=0.4.1 in /usr/local/lib/python3.6/dist-packages (from tensorboard~=2.4->tensorflow) (0.4.2)\n",
            "Requirement already satisfied: requests<3,>=2.21.0 in /usr/local/lib/python3.6/dist-packages (from tensorboard~=2.4->tensorflow) (2.23.0)\n",
            "Requirement already satisfied: markdown>=2.6.8 in /usr/local/lib/python3.6/dist-packages (from tensorboard~=2.4->tensorflow) (3.3.3)\n",
            "Requirement already satisfied: werkzeug>=0.11.15 in /usr/local/lib/python3.6/dist-packages (from tensorboard~=2.4->tensorflow) (1.0.1)\n",
            "Requirement already satisfied: google-auth<2,>=1.6.3 in /usr/local/lib/python3.6/dist-packages (from tensorboard~=2.4->tensorflow) (1.17.2)\n",
            "Requirement already satisfied: requests-oauthlib>=0.7.0 in /usr/local/lib/python3.6/dist-packages (from google-auth-oauthlib<0.5,>=0.4.1->tensorboard~=2.4->tensorflow) (1.3.0)\n",
            "Requirement already satisfied: idna<3,>=2.5 in /usr/local/lib/python3.6/dist-packages (from requests<3,>=2.21.0->tensorboard~=2.4->tensorflow) (2.10)\n",
            "Requirement already satisfied: urllib3!=1.25.0,!=1.25.1,<1.26,>=1.21.1 in /usr/local/lib/python3.6/dist-packages (from requests<3,>=2.21.0->tensorboard~=2.4->tensorflow) (1.24.3)\n",
            "Requirement already satisfied: certifi>=2017.4.17 in /usr/local/lib/python3.6/dist-packages (from requests<3,>=2.21.0->tensorboard~=2.4->tensorflow) (2020.12.5)\n",
            "Requirement already satisfied: chardet<4,>=3.0.2 in /usr/local/lib/python3.6/dist-packages (from requests<3,>=2.21.0->tensorboard~=2.4->tensorflow) (3.0.4)\n",
            "Requirement already satisfied: importlib-metadata; python_version < \"3.8\" in /usr/local/lib/python3.6/dist-packages (from markdown>=2.6.8->tensorboard~=2.4->tensorflow) (3.3.0)\n",
            "Requirement already satisfied: rsa<5,>=3.1.4; python_version >= \"3\" in /usr/local/lib/python3.6/dist-packages (from google-auth<2,>=1.6.3->tensorboard~=2.4->tensorflow) (4.6)\n",
            "Requirement already satisfied: pyasn1-modules>=0.2.1 in /usr/local/lib/python3.6/dist-packages (from google-auth<2,>=1.6.3->tensorboard~=2.4->tensorflow) (0.2.8)\n",
            "Requirement already satisfied: cachetools<5.0,>=2.0.0 in /usr/local/lib/python3.6/dist-packages (from google-auth<2,>=1.6.3->tensorboard~=2.4->tensorflow) (4.2.0)\n",
            "Requirement already satisfied: oauthlib>=3.0.0 in /usr/local/lib/python3.6/dist-packages (from requests-oauthlib>=0.7.0->google-auth-oauthlib<0.5,>=0.4.1->tensorboard~=2.4->tensorflow) (3.1.0)\n",
            "Requirement already satisfied: zipp>=0.5 in /usr/local/lib/python3.6/dist-packages (from importlib-metadata; python_version < \"3.8\"->markdown>=2.6.8->tensorboard~=2.4->tensorflow) (3.4.0)\n",
            "Requirement already satisfied: pyasn1>=0.1.3 in /usr/local/lib/python3.6/dist-packages (from rsa<5,>=3.1.4; python_version >= \"3\"->google-auth<2,>=1.6.3->tensorboard~=2.4->tensorflow) (0.4.8)\n",
            "Collecting mnist\n",
            "  Downloading https://files.pythonhosted.org/packages/c6/c4/5db3bfe009f8d71f1d532bbadbd0ec203764bba3a469e4703a889db8e5e0/mnist-0.2.2-py2.py3-none-any.whl\n",
            "Requirement already satisfied: numpy in /usr/local/lib/python3.6/dist-packages (from mnist) (1.19.4)\n",
            "Installing collected packages: mnist\n",
            "Successfully installed mnist-0.2.2\n"
          ],
          "name": "stdout"
        }
      ]
    },
    {
      "cell_type": "code",
      "metadata": {
        "id": "hXXLFfhLTwOK",
        "colab": {
          "base_uri": "https://localhost:8080/"
        },
        "outputId": "e2a730cd-9a0f-48d4-b17c-d75476321e23"
      },
      "source": [
        "import numpy as np\n",
        "import scipy\n",
        "import tensorflow as tf \n",
        "import matplotlib.pyplot as plt\n",
        "from keras.datasets import mnist\n",
        "\n",
        "# load the MNIST dataset\n",
        "objects =  tf.keras.datasets.mnist\n",
        "(x_train, y_train), (x_test, y_test) = mnist.load_data()\n"
      ],
      "execution_count": 2,
      "outputs": [
        {
          "output_type": "stream",
          "text": [
            "Downloading data from https://storage.googleapis.com/tensorflow/tf-keras-datasets/mnist.npz\n",
            "11493376/11490434 [==============================] - 0s 0us/step\n"
          ],
          "name": "stdout"
        }
      ]
    },
    {
      "cell_type": "code",
      "metadata": {
        "id": "ydpySbPmaJav"
      },
      "source": [
        "\n",
        "x_train = x_train / 255.0\n",
        "x_test = x_test / 255.0\n",
        "\n",
        "y_val = y_train[-10000:]\n",
        "x_val = x_train[-10000:]\n",
        "\n",
        "x_train = x_train[:-10000]\n",
        "y_train = y_train[:-10000]"
      ],
      "execution_count": 3,
      "outputs": []
    },
    {
      "cell_type": "code",
      "metadata": {
        "id": "fTEOpKYHaV4C"
      },
      "source": [
        "model = tf.keras.models.Sequential([tf.keras.layers.Flatten(input_shape=(28,28)), \n",
        "                                    tf.keras.layers.Dense(128, activation='relu'), \n",
        "                                    tf.keras.layers.Dense(10, activation=tf.nn.softmax)])\n",
        "\n",
        "\n",
        "model.compile(optimizer = 'adam',\n",
        "              loss = 'sparse_categorical_crossentropy',\n",
        "              metrics=['accuracy'])"
      ],
      "execution_count": 4,
      "outputs": []
    },
    {
      "cell_type": "code",
      "metadata": {
        "id": "F5hEYW2lclpT"
      },
      "source": [
        "model.compile(optimizer = 'adam',\n",
        "              loss = 'sparse_categorical_crossentropy',\n",
        "              metrics=['accuracy'])"
      ],
      "execution_count": 5,
      "outputs": []
    },
    {
      "cell_type": "code",
      "metadata": {
        "colab": {
          "base_uri": "https://localhost:8080/"
        },
        "id": "4af-Iul4dM81",
        "outputId": "31ca64f5-babc-4a7c-902e-5607d73d2ac5"
      },
      "source": [
        "model.fit(x_train, y_train, epochs = 5)"
      ],
      "execution_count": 6,
      "outputs": [
        {
          "output_type": "stream",
          "text": [
            "Epoch 1/5\n",
            "1563/1563 [==============================] - 3s 2ms/step - loss: 0.4750 - accuracy: 0.8619\n",
            "Epoch 2/5\n",
            "1563/1563 [==============================] - 3s 2ms/step - loss: 0.1367 - accuracy: 0.9594\n",
            "Epoch 3/5\n",
            "1563/1563 [==============================] - 3s 2ms/step - loss: 0.0907 - accuracy: 0.9735\n",
            "Epoch 4/5\n",
            "1563/1563 [==============================] - 3s 2ms/step - loss: 0.0653 - accuracy: 0.9804\n",
            "Epoch 5/5\n",
            "1563/1563 [==============================] - 3s 2ms/step - loss: 0.0489 - accuracy: 0.9852\n"
          ],
          "name": "stdout"
        },
        {
          "output_type": "execute_result",
          "data": {
            "text/plain": [
              "<tensorflow.python.keras.callbacks.History at 0x7fc998ad0e48>"
            ]
          },
          "metadata": {
            "tags": []
          },
          "execution_count": 6
        }
      ]
    },
    {
      "cell_type": "markdown",
      "metadata": {
        "id": "xqLqZqIaTZ1f"
      },
      "source": [
        ""
      ]
    },
    {
      "cell_type": "code",
      "metadata": {
        "colab": {
          "base_uri": "https://localhost:8080/"
        },
        "id": "y165CTwUeEhv",
        "outputId": "8ec5f92f-0e37-4c56-8b0c-76756a566996"
      },
      "source": [
        "print(model.evaluate(x_test,y_test))\n"
      ],
      "execution_count": 7,
      "outputs": [
        {
          "output_type": "stream",
          "text": [
            "313/313 [==============================] - 0s 1ms/step - loss: 0.0747 - accuracy: 0.9766\n",
            "[0.07468801736831665, 0.9765999913215637]\n"
          ],
          "name": "stdout"
        }
      ]
    },
    {
      "cell_type": "code",
      "metadata": {
        "colab": {
          "base_uri": "https://localhost:8080/",
          "height": 419
        },
        "id": "t4lYsudwfeuR",
        "outputId": "3a0fd5ef-2a40-428e-9e01-8b7f9e850bde"
      },
      "source": [
        "for i in range(9):\n",
        "  prediction=model.predict(x_test)\n",
        "  print(np.argmax(prediction[i]))\n",
        "  plt.subplot(330 + 1 + i)\n",
        "  plt.imshow(x_test[i])"
      ],
      "execution_count": 8,
      "outputs": [
        {
          "output_type": "stream",
          "text": [
            "7\n",
            "2\n",
            "1\n",
            "0\n",
            "4\n",
            "1\n",
            "4\n",
            "9\n",
            "6\n"
          ],
          "name": "stdout"
        },
        {
          "output_type": "display_data",
          "data": {
            "image/png": "[encoded data removed]",
            "text/plain": [
              "<Figure size 432x288 with 9 Axes>"
            ]
          },
          "metadata": {
            "tags": [],
            "needs_background": "light"
          }
        }
      ]
    },
    {
      "cell_type": "code",
      "metadata": {
        "colab": {
          "base_uri": "https://localhost:8080/",
          "height": 298
        },
        "id": "HAiWMqFWh2PY",
        "outputId": "91d8069d-1849-4a77-d38e-276cb8ab6752"
      },
      "source": [
        "print(np.argmax(prediction[5602]))\n",
        "plt.imshow(x_test[5602])"
      ],
      "execution_count": 9,
      "outputs": [
        {
          "output_type": "stream",
          "text": [
            "9\n"
          ],
          "name": "stdout"
        },
        {
          "output_type": "execute_result",
          "data": {
            "text/plain": [
              "<matplotlib.image.AxesImage at 0x7fc98910cbe0>"
            ]
          },
          "metadata": {
            "tags": []
          },
          "execution_count": 9
        },
        {
          "output_type": "display_data",
          "data": {
            "image/png": "[encoded data removed]",
            "text/plain": [
              "<Figure size 432x288 with 1 Axes>"
            ]
          },
          "metadata": {
            "tags": [],
            "needs_background": "light"
          }
        }
      ]
    },
    {
      "cell_type": "code",
      "metadata": {
        "id": "aHA58AiSj651"
      },
      "source": [
        "import numpy as np\n",
        "from sklearn import metrics\n",
        "\n",
        "#function [CM, acc, arrR, arrP]=func_confusion_matrix(teY, hatY)\n",
        "\n",
        "def func_confusion_matrix(y_test, y_pred):\n",
        "    \"\"\" this function is used to calculate the confusion matrix and a set of metrics.\n",
        "    INPUT:\n",
        "        y_test, ground-truth lables;\n",
        "        y_pred, predicted labels;\n",
        "    OUTPUT:\n",
        "        CM, confuction matrix\n",
        "        acc, accuracy\n",
        "        arrR[], per-class recall rate,\n",
        "        arrP[], per-class prediction rate.\n",
        "    \"\"\"\n",
        "\n",
        "    y_test = np.array(y_test)\n",
        "    y_pred = np.array(y_pred)\n",
        "\n",
        "    unique_values = set(y_pred)\n",
        "    sorted(unique_values)\n",
        "    num_classes = len(unique_values)\n",
        "    unique_values = np.array(list(unique_values)) # change to array so can use indexes\n",
        "    possible_string_dict = {}\n",
        "    # make sure all values are 0 based, so can use built-in \"zip\" function\n",
        "    if(issubclass(type(y_test[0]), np.integer)): # if values are integers\n",
        "        y_test_min = y_test.min()\n",
        "        if(y_test_min != 0):# if does not contain 0, reduce both test and pred by min value to get 0 based for both\n",
        "            y_test = y_test - y_test_min;\n",
        "            y_pred = y_pred - y_test_min;\n",
        "    else:\n",
        "        # assume values are strings, change to integers\n",
        "        # TODO, change to convert list from string to int\n",
        "        y_test_int = np.empty(len(y_test), dtype=int)\n",
        "        y_pred_int = np.empty(len(y_pred), dtype=int)\n",
        "        for index in range(0, num_classes):\n",
        "            current_value = unique_values[index]\n",
        "            possible_string_dict[index] = current_value\n",
        "            y_test_int[y_test == current_value] = index\n",
        "            y_pred_int[y_pred == current_value] = index\n",
        "        y_test = y_test_int\n",
        "        y_pred = y_pred_int\n",
        "       \n",
        "    ## your code for creating confusion matrix;\n",
        "    conf_matrix = np.zeros((num_classes, num_classes), dtype=np.int)\n",
        "    for a, p in zip(y_test, y_pred):\n",
        "        conf_matrix[a][p] += 1\n",
        " \n",
        "\n",
        "    ## your code for calcuating acc;\n",
        "    accuracy = conf_matrix.diagonal().sum() / conf_matrix.sum()\n",
        "   \n",
        "    ## your code for calcualting arrR and arrP;\n",
        "    recall_array = np.empty(num_classes, dtype=float)\n",
        "    precision_array = np.empty(num_classes, dtype=float)\n",
        "    for index in range(0, num_classes):\n",
        "        value = conf_matrix[index,index]\n",
        "        recall_sum = conf_matrix[index,:].sum()\n",
        "        precision_sum = conf_matrix[:, index].sum()\n",
        "        recall_array[index] = value / recall_sum\n",
        "        precision_array[index] = value / precision_sum\n",
        "       \n",
        "    return conf_matrix, accuracy, recall_array, precision_array\n",
        "\n",
        "\n",
        "def get_confusion_matrix_and_test(y_test, y_pred):\n",
        "    \"\"\" get confusion matrix, accuracy, array of recall and precision\n",
        "        test confusion matrix and accuracy\n",
        "    \"\"\"\n",
        "    cm, acc, arrR, arrP = func_confusion_matrix(y_test, y_pred)\n",
        "    expected_matrix = metrics.confusion_matrix(y_test, y_pred)\n",
        "    assert(np.array_equal(expected_matrix, cm))\n",
        "    expected_acc = metrics.accuracy_score(y_test, y_pred)\n",
        "    assert(round(expected_acc, 2) == round(acc, 2))\n",
        "    return cm, acc, arrR, arrP\n",
        "\n",
        "def _test_confusion_matrix():\n",
        "    y_test = [1, 1, 1, 1, 1,\n",
        "              2, 2, 2, 2, 2, 2, 2, 2,\n",
        "              3, 3, 3, 3, 3, 3, 3]\n",
        "    y_pred = [2, 1, 2, 2, 3,\n",
        "              2, 2, 1, 1, 3, 3, 2, 1,\n",
        "              1, 1, 3, 3, 2, 2, 3]\n",
        "    cm, acc, arrR, arrP = get_confusion_matrix_and_test(y_test, y_pred)\n",
        "\n",
        "def _perform1point1(confidence_threshold):\n",
        "    y_test = ['Y', 'Y', 'Y', 'Y', 'Y', 'Y', 'N', 'N', 'N', 'N', 'N', 'N']\n",
        "    y_pred_conf = [0.95, 0.83, 0.78, 0.53, 0.9, 0.2, 0.6, 0.8, 0.7, 0.5, 0.9, 0.2]\n",
        "    num_elements = len(y_pred_conf)\n",
        "    y_pred = np.empty(num_elements, dtype=object)\n",
        "    for index in range(0, num_elements):\n",
        "        if y_pred_conf[index] > confidence_threshold:\n",
        "            y_pred[index] = 'Y'\n",
        "        else:\n",
        "            y_pred[index] = 'N'\n",
        "\n",
        "    cm, acc, arrR, arrP = get_confusion_matrix_and_test(y_test, y_pred)"
      ],
      "execution_count": 10,
      "outputs": []
    }
  ]
}